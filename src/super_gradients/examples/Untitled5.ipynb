{
  "nbformat": 4,
  "nbformat_minor": 0,
  "metadata": {
    "colab": {
      "provenance": []
    },
    "kernelspec": {
      "name": "python3",
      "display_name": "Python 3"
    },
    "language_info": {
      "name": "python"
    },
    "accelerator": "GPU",
    "gpuClass": "standard"
  },
  "cells": [
    {
      "cell_type": "markdown",
      "source": [
        "\n",
        "# Finetuning DeciYolo on a Custom Dataset\n",
        "\n",
        "Background: Our research team developed a new deep learning architecture that competes with YOLOv8 using our efficient AutoNAC algorithm. \n",
        "The new model, named DeciYolo, incorporates quantization-aware RepVGG blocks into the model architecture to ensure compatibility with Post-Training Quantization, making it more flexible and usable for different hardware configurations.\n",
        "\n",
        "In this tutorial, we will demonstrate how to fine-tune the small variant of the DeciYolo, DeciYoloS on a custom dataset: the [RF Soccer Players Dataset](https://universe.roboflow.com/growingkomab-gmail-com/soccer_players/dataset/14).\n",
        "\n",
        "\n",
        "0. Installations and dataset setup.\n",
        "1. Initialize train and validation dataloaders.\n",
        "2. Instantiate a pre-trained DeciYoloS model.\n",
        "3. Define training hyperparameters and launch training.\n",
        "4. Run prediction on a real world input."
      ],
      "metadata": {
        "id": "I99TT1EjKCSQ"
      }
    },
    {
      "cell_type": "markdown",
      "source": [
        "## Step 0: Dataset Setup\n",
        "\n",
        "First, follow this link will download the RF Soccer Players Dataset:\n",
        " - Follow the [dataset download page](https://universe.roboflow.com/growingkomab-gmail-com/soccer_players/dataset/14).\n",
        " - Sign up or login to Roboflow.\n",
        " - Click on download, then select \"COCO\" as the format. Click \"continue\".\n",
        " - Under \"Jupyter\" option, you will see the code below, replace \"YOUR_API_KEY\" with the one given to you in the pop up box."
      ],
      "metadata": {
        "id": "QiwewPaspFbM"
      }
    },
    {
      "cell_type": "code",
      "execution_count": 1,
      "metadata": {
        "colab": {
          "base_uri": "https://localhost:8080/"
        },
        "id": "C6tLG8PIZdkL",
        "outputId": "99cd6370-30a0-4b02-e2ba-daed28f89f01"
      },
      "outputs": [
        {
          "output_type": "stream",
          "name": "stdout",
          "text": [
            "Looking in indexes: https://pypi.org/simple, https://us-python.pkg.dev/colab-wheels/public/simple/\n",
            "Requirement already satisfied: roboflow in /usr/local/lib/python3.9/dist-packages (1.0.3)\n",
            "Requirement already satisfied: tqdm>=4.41.0 in /usr/local/lib/python3.9/dist-packages (from roboflow) (4.65.0)\n",
            "Requirement already satisfied: wget in /usr/local/lib/python3.9/dist-packages (from roboflow) (3.2)\n",
            "Requirement already satisfied: chardet==4.0.0 in /usr/local/lib/python3.9/dist-packages (from roboflow) (4.0.0)\n",
            "Requirement already satisfied: numpy>=1.18.5 in /usr/local/lib/python3.9/dist-packages (from roboflow) (1.22.4)\n",
            "Requirement already satisfied: Pillow>=7.1.2 in /usr/local/lib/python3.9/dist-packages (from roboflow) (9.5.0)\n",
            "Requirement already satisfied: matplotlib in /usr/local/lib/python3.9/dist-packages (from roboflow) (3.7.1)\n",
            "Requirement already satisfied: six in /usr/local/lib/python3.9/dist-packages (from roboflow) (1.16.0)\n",
            "Requirement already satisfied: python-dateutil in /usr/local/lib/python3.9/dist-packages (from roboflow) (2.8.2)\n",
            "Requirement already satisfied: opencv-python>=4.1.2 in /usr/local/lib/python3.9/dist-packages (from roboflow) (4.7.0.72)\n",
            "Requirement already satisfied: cycler==0.10.0 in /usr/local/lib/python3.9/dist-packages (from roboflow) (0.10.0)\n",
            "Requirement already satisfied: idna==2.10 in /usr/local/lib/python3.9/dist-packages (from roboflow) (2.10)\n",
            "Requirement already satisfied: requests in /usr/local/lib/python3.9/dist-packages (from roboflow) (2.27.1)\n",
            "Requirement already satisfied: requests-toolbelt in /usr/local/lib/python3.9/dist-packages (from roboflow) (0.10.1)\n",
            "Requirement already satisfied: kiwisolver>=1.3.1 in /usr/local/lib/python3.9/dist-packages (from roboflow) (1.4.4)\n",
            "Requirement already satisfied: python-dotenv in /usr/local/lib/python3.9/dist-packages (from roboflow) (1.0.0)\n",
            "Requirement already satisfied: urllib3>=1.26.6 in /usr/local/lib/python3.9/dist-packages (from roboflow) (1.26.15)\n",
            "Collecting pyparsing==2.4.7\n",
            "  Using cached pyparsing-2.4.7-py2.py3-none-any.whl (67 kB)\n",
            "Requirement already satisfied: certifi==2022.12.7 in /usr/local/lib/python3.9/dist-packages (from roboflow) (2022.12.7)\n",
            "Requirement already satisfied: PyYAML>=5.3.1 in /usr/local/lib/python3.9/dist-packages (from roboflow) (6.0)\n",
            "Requirement already satisfied: packaging>=20.0 in /usr/local/lib/python3.9/dist-packages (from matplotlib->roboflow) (23.0)\n",
            "Requirement already satisfied: fonttools>=4.22.0 in /usr/local/lib/python3.9/dist-packages (from matplotlib->roboflow) (4.39.3)\n",
            "Requirement already satisfied: importlib-resources>=3.2.0 in /usr/local/lib/python3.9/dist-packages (from matplotlib->roboflow) (5.12.0)\n",
            "Requirement already satisfied: contourpy>=1.0.1 in /usr/local/lib/python3.9/dist-packages (from matplotlib->roboflow) (1.0.7)\n",
            "Requirement already satisfied: charset-normalizer~=2.0.0 in /usr/local/lib/python3.9/dist-packages (from requests->roboflow) (2.0.12)\n",
            "Requirement already satisfied: zipp>=3.1.0 in /usr/local/lib/python3.9/dist-packages (from importlib-resources>=3.2.0->matplotlib->roboflow) (3.15.0)\n",
            "Installing collected packages: pyparsing\n",
            "  Attempting uninstall: pyparsing\n",
            "    Found existing installation: pyparsing 2.4.5\n",
            "    Uninstalling pyparsing-2.4.5:\n",
            "      Successfully uninstalled pyparsing-2.4.5\n",
            "\u001b[31mERROR: pip's dependency resolver does not currently take into account all the packages that are installed. This behaviour is the source of the following dependency conflicts.\n",
            "super-gradients 3.0.8+master requires pyparsing==2.4.5, but you have pyparsing 2.4.7 which is incompatible.\u001b[0m\u001b[31m\n",
            "\u001b[0mSuccessfully installed pyparsing-2.4.7\n",
            "loading Roboflow workspace...\n",
            "loading Roboflow project...\n",
            "Downloading Dataset Version Zip in soccer_players-14 to coco: 100% [16762808 / 16762808] bytes\n"
          ]
        },
        {
          "output_type": "stream",
          "name": "stderr",
          "text": [
            "Extracting Dataset Version Zip to soccer_players-14 in coco:: 100%|██████████| 659/659 [00:00<00:00, 1834.48it/s]\n"
          ]
        }
      ],
      "source": [
        "!pip install roboflow\n",
        "\n",
        "from roboflow import Roboflow\n",
        "rf = Roboflow(api_key=\"HHHAIeIk8YN2rZ6tP8nR\")\n",
        "project = rf.workspace(\"growingkomab-gmail-com\").project(\"soccer_players\")\n",
        "dataset = project.version(14).download(\"coco\")"
      ]
    },
    {
      "cell_type": "markdown",
      "source": [
        "# New Section"
      ],
      "metadata": {
        "id": "95oO2b0BP1yK"
      }
    },
    {
      "cell_type": "code",
      "source": [
        "! pip install torch==1.11.0+cu113 torchvision==0.12.0+cu113 torchaudio==0.11.0 --extra-index-url https://download.pytorch.org/whl/cu113 &> /dev/null\n",
        "! pip install git+https://github.com/Deci-AI/super-gradients.git@feature/SG-736_deci_yolo_rf100"
      ],
      "metadata": {
        "colab": {
          "base_uri": "https://localhost:8080/"
        },
        "id": "GLkPY6PDa5uC",
        "outputId": "165735c0-1ddd-44c0-bad8-20a5592882fe"
      },
      "execution_count": 2,
      "outputs": [
        {
          "output_type": "stream",
          "name": "stdout",
          "text": [
            "Looking in indexes: https://pypi.org/simple, https://us-python.pkg.dev/colab-wheels/public/simple/\n",
            "Collecting git+https://github.com/Deci-AI/super-gradients.git@feature/SG-736_deci_yolo_rf100\n",
            "  Cloning https://github.com/Deci-AI/super-gradients.git (to revision feature/SG-736_deci_yolo_rf100) to /tmp/pip-req-build-7xzztun0\n",
            "  Running command git clone --filter=blob:none --quiet https://github.com/Deci-AI/super-gradients.git /tmp/pip-req-build-7xzztun0\n",
            "  Running command git checkout -b feature/SG-736_deci_yolo_rf100 --track origin/feature/SG-736_deci_yolo_rf100\n",
            "  Switched to a new branch 'feature/SG-736_deci_yolo_rf100'\n",
            "  Branch 'feature/SG-736_deci_yolo_rf100' set up to track remote branch 'feature/SG-736_deci_yolo_rf100' from 'origin'.\n",
            "  Resolved https://github.com/Deci-AI/super-gradients.git to commit fb9c82218f36522069759bab646ae77957306a2c\n",
            "  Installing build dependencies ... \u001b[?25l\u001b[?25hdone\n",
            "  Getting requirements to build wheel ... \u001b[?25l\u001b[?25hdone\n",
            "  Preparing metadata (pyproject.toml) ... \u001b[?25l\u001b[?25hdone\n",
            "Requirement already satisfied: stringcase>=1.2.0 in /usr/local/lib/python3.9/dist-packages (from super-gradients==3.0.8+master) (1.2.0)\n",
            "Requirement already satisfied: scipy>=1.6.1 in /usr/local/lib/python3.9/dist-packages (from super-gradients==3.0.8+master) (1.10.1)\n",
            "Requirement already satisfied: opencv-python>=4.5.1 in /usr/local/lib/python3.9/dist-packages (from super-gradients==3.0.8+master) (4.7.0.72)\n",
            "Requirement already satisfied: tensorboard>=2.4.1 in /usr/local/lib/python3.9/dist-packages (from super-gradients==3.0.8+master) (2.12.1)\n",
            "Requirement already satisfied: sphinx~=4.0.2 in /usr/local/lib/python3.9/dist-packages (from super-gradients==3.0.8+master) (4.0.3)\n",
            "Requirement already satisfied: termcolor==1.1.0 in /usr/local/lib/python3.9/dist-packages (from super-gradients==3.0.8+master) (1.1.0)\n",
            "Requirement already satisfied: omegaconf in /usr/local/lib/python3.9/dist-packages (from super-gradients==3.0.8+master) (2.3.0)\n",
            "Requirement already satisfied: psutil>=5.8.0 in /usr/local/lib/python3.9/dist-packages (from super-gradients==3.0.8+master) (5.9.4)\n",
            "Requirement already satisfied: hydra-core>=1.2.0 in /usr/local/lib/python3.9/dist-packages (from super-gradients==3.0.8+master) (1.3.2)\n",
            "Requirement already satisfied: matplotlib>=3.3.4 in /usr/local/lib/python3.9/dist-packages (from super-gradients==3.0.8+master) (3.7.1)\n",
            "Requirement already satisfied: wheel>=0.38.0 in /usr/local/lib/python3.9/dist-packages (from super-gradients==3.0.8+master) (0.40.0)\n",
            "Requirement already satisfied: pygments>=2.7.4 in /usr/local/lib/python3.9/dist-packages (from super-gradients==3.0.8+master) (2.14.0)\n",
            "Requirement already satisfied: packaging>=20.4 in /usr/local/lib/python3.9/dist-packages (from super-gradients==3.0.8+master) (23.0)\n",
            "Requirement already satisfied: setuptools>=21.0.0 in /usr/local/lib/python3.9/dist-packages (from super-gradients==3.0.8+master) (67.6.1)\n",
            "Requirement already satisfied: pycocotools==2.0.4 in /usr/local/lib/python3.9/dist-packages (from super-gradients==3.0.8+master) (2.0.4)\n",
            "Requirement already satisfied: torch<1.14,>=1.9.0 in /usr/local/lib/python3.9/dist-packages (from super-gradients==3.0.8+master) (1.11.0+cu113)\n",
            "Requirement already satisfied: boto3>=1.17.15 in /usr/local/lib/python3.9/dist-packages (from super-gradients==3.0.8+master) (1.26.112)\n",
            "Requirement already satisfied: torchvision>=0.10.0 in /usr/local/lib/python3.9/dist-packages (from super-gradients==3.0.8+master) (0.12.0+cu113)\n",
            "Requirement already satisfied: treelib==1.6.1 in /usr/local/lib/python3.9/dist-packages (from super-gradients==3.0.8+master) (1.6.1)\n",
            "Requirement already satisfied: onnxruntime==1.13.1 in /usr/local/lib/python3.9/dist-packages (from super-gradients==3.0.8+master) (1.13.1)\n",
            "Requirement already satisfied: onnx==1.13.0 in /usr/local/lib/python3.9/dist-packages (from super-gradients==3.0.8+master) (1.13.0)\n",
            "Requirement already satisfied: einops==0.3.2 in /usr/local/lib/python3.9/dist-packages (from super-gradients==3.0.8+master) (0.3.2)\n",
            "Requirement already satisfied: onnx-simplifier<1.0,>=0.3.6 in /usr/local/lib/python3.9/dist-packages (from super-gradients==3.0.8+master) (0.4.19)\n",
            "Requirement already satisfied: Deprecated>=1.2.11 in /usr/local/lib/python3.9/dist-packages (from super-gradients==3.0.8+master) (1.2.13)\n",
            "Requirement already satisfied: sphinx-rtd-theme in /usr/local/lib/python3.9/dist-packages (from super-gradients==3.0.8+master) (1.2.0)\n",
            "Collecting pyparsing==2.4.5\n",
            "  Using cached pyparsing-2.4.5-py2.py3-none-any.whl (67 kB)\n",
            "Requirement already satisfied: pillow>=9.2.0 in /usr/local/lib/python3.9/dist-packages (from super-gradients==3.0.8+master) (9.5.0)\n",
            "Requirement already satisfied: numpy<=1.23 in /usr/local/lib/python3.9/dist-packages (from super-gradients==3.0.8+master) (1.22.4)\n",
            "Requirement already satisfied: jsonschema>=3.2.0 in /usr/local/lib/python3.9/dist-packages (from super-gradients==3.0.8+master) (4.3.3)\n",
            "Requirement already satisfied: tqdm>=4.57.0 in /usr/local/lib/python3.9/dist-packages (from super-gradients==3.0.8+master) (4.65.0)\n",
            "Requirement already satisfied: torchmetrics==0.8 in /usr/local/lib/python3.9/dist-packages (from super-gradients==3.0.8+master) (0.8.0)\n",
            "Requirement already satisfied: pip-tools>=6.12.1 in /usr/local/lib/python3.9/dist-packages (from super-gradients==3.0.8+master) (6.13.0)\n",
            "Requirement already satisfied: coverage~=5.3.1 in /usr/local/lib/python3.9/dist-packages (from super-gradients==3.0.8+master) (5.3.1)\n",
            "Requirement already satisfied: protobuf==3.20.3 in /usr/local/lib/python3.9/dist-packages (from super-gradients==3.0.8+master) (3.20.3)\n",
            "Requirement already satisfied: json-tricks==3.16.1 in /usr/local/lib/python3.9/dist-packages (from super-gradients==3.0.8+master) (3.16.1)\n",
            "Requirement already satisfied: rapidfuzz in /usr/local/lib/python3.9/dist-packages (from super-gradients==3.0.8+master) (2.15.1)\n",
            "Requirement already satisfied: typing-extensions>=3.6.2.1 in /usr/local/lib/python3.9/dist-packages (from onnx==1.13.0->super-gradients==3.0.8+master) (4.5.0)\n",
            "Requirement already satisfied: coloredlogs in /usr/local/lib/python3.9/dist-packages (from onnxruntime==1.13.1->super-gradients==3.0.8+master) (15.0.1)\n",
            "Requirement already satisfied: sympy in /usr/local/lib/python3.9/dist-packages (from onnxruntime==1.13.1->super-gradients==3.0.8+master) (1.11.1)\n",
            "Requirement already satisfied: flatbuffers in /usr/local/lib/python3.9/dist-packages (from onnxruntime==1.13.1->super-gradients==3.0.8+master) (23.3.3)\n",
            "Requirement already satisfied: pyDeprecate==0.3.* in /usr/local/lib/python3.9/dist-packages (from torchmetrics==0.8->super-gradients==3.0.8+master) (0.3.2)\n",
            "Requirement already satisfied: future in /usr/local/lib/python3.9/dist-packages (from treelib==1.6.1->super-gradients==3.0.8+master) (0.18.3)\n",
            "Requirement already satisfied: botocore<1.30.0,>=1.29.112 in /usr/local/lib/python3.9/dist-packages (from boto3>=1.17.15->super-gradients==3.0.8+master) (1.29.112)\n",
            "Requirement already satisfied: jmespath<2.0.0,>=0.7.1 in /usr/local/lib/python3.9/dist-packages (from boto3>=1.17.15->super-gradients==3.0.8+master) (1.0.1)\n",
            "Requirement already satisfied: s3transfer<0.7.0,>=0.6.0 in /usr/local/lib/python3.9/dist-packages (from boto3>=1.17.15->super-gradients==3.0.8+master) (0.6.0)\n",
            "Requirement already satisfied: wrapt<2,>=1.10 in /usr/local/lib/python3.9/dist-packages (from Deprecated>=1.2.11->super-gradients==3.0.8+master) (1.14.1)\n",
            "Requirement already satisfied: antlr4-python3-runtime==4.9.* in /usr/local/lib/python3.9/dist-packages (from hydra-core>=1.2.0->super-gradients==3.0.8+master) (4.9.3)\n",
            "Requirement already satisfied: attrs>=17.4.0 in /usr/local/lib/python3.9/dist-packages (from jsonschema>=3.2.0->super-gradients==3.0.8+master) (22.2.0)\n",
            "Requirement already satisfied: pyrsistent!=0.17.0,!=0.17.1,!=0.17.2,>=0.14.0 in /usr/local/lib/python3.9/dist-packages (from jsonschema>=3.2.0->super-gradients==3.0.8+master) (0.19.3)\n",
            "Requirement already satisfied: cycler>=0.10 in /usr/local/lib/python3.9/dist-packages (from matplotlib>=3.3.4->super-gradients==3.0.8+master) (0.10.0)\n",
            "Requirement already satisfied: contourpy>=1.0.1 in /usr/local/lib/python3.9/dist-packages (from matplotlib>=3.3.4->super-gradients==3.0.8+master) (1.0.7)\n",
            "Requirement already satisfied: fonttools>=4.22.0 in /usr/local/lib/python3.9/dist-packages (from matplotlib>=3.3.4->super-gradients==3.0.8+master) (4.39.3)\n",
            "Requirement already satisfied: importlib-resources>=3.2.0 in /usr/local/lib/python3.9/dist-packages (from matplotlib>=3.3.4->super-gradients==3.0.8+master) (5.12.0)\n",
            "Requirement already satisfied: kiwisolver>=1.0.1 in /usr/local/lib/python3.9/dist-packages (from matplotlib>=3.3.4->super-gradients==3.0.8+master) (1.4.4)\n",
            "Requirement already satisfied: python-dateutil>=2.7 in /usr/local/lib/python3.9/dist-packages (from matplotlib>=3.3.4->super-gradients==3.0.8+master) (2.8.2)\n",
            "Requirement already satisfied: PyYAML>=5.1.0 in /usr/local/lib/python3.9/dist-packages (from omegaconf->super-gradients==3.0.8+master) (6.0)\n",
            "Requirement already satisfied: rich in /usr/local/lib/python3.9/dist-packages (from onnx-simplifier<1.0,>=0.3.6->super-gradients==3.0.8+master) (13.3.3)\n",
            "Requirement already satisfied: click>=8 in /usr/local/lib/python3.9/dist-packages (from pip-tools>=6.12.1->super-gradients==3.0.8+master) (8.1.3)\n",
            "Requirement already satisfied: pip>=22.2 in /usr/local/lib/python3.9/dist-packages (from pip-tools>=6.12.1->super-gradients==3.0.8+master) (23.0.1)\n",
            "Requirement already satisfied: build in /usr/local/lib/python3.9/dist-packages (from pip-tools>=6.12.1->super-gradients==3.0.8+master) (0.10.0)\n",
            "Requirement already satisfied: sphinxcontrib-htmlhelp in /usr/local/lib/python3.9/dist-packages (from sphinx~=4.0.2->super-gradients==3.0.8+master) (2.0.1)\n",
            "Requirement already satisfied: docutils<0.18,>=0.14 in /usr/local/lib/python3.9/dist-packages (from sphinx~=4.0.2->super-gradients==3.0.8+master) (0.16)\n",
            "Requirement already satisfied: alabaster<0.8,>=0.7 in /usr/local/lib/python3.9/dist-packages (from sphinx~=4.0.2->super-gradients==3.0.8+master) (0.7.13)\n",
            "Requirement already satisfied: sphinxcontrib-devhelp in /usr/local/lib/python3.9/dist-packages (from sphinx~=4.0.2->super-gradients==3.0.8+master) (1.0.2)\n",
            "Requirement already satisfied: sphinxcontrib-jsmath in /usr/local/lib/python3.9/dist-packages (from sphinx~=4.0.2->super-gradients==3.0.8+master) (1.0.1)\n",
            "Requirement already satisfied: snowballstemmer>=1.1 in /usr/local/lib/python3.9/dist-packages (from sphinx~=4.0.2->super-gradients==3.0.8+master) (2.2.0)\n",
            "Requirement already satisfied: Jinja2>=2.3 in /usr/local/lib/python3.9/dist-packages (from sphinx~=4.0.2->super-gradients==3.0.8+master) (3.1.2)\n",
            "Requirement already satisfied: sphinxcontrib-applehelp in /usr/local/lib/python3.9/dist-packages (from sphinx~=4.0.2->super-gradients==3.0.8+master) (1.0.4)\n",
            "Requirement already satisfied: requests>=2.5.0 in /usr/local/lib/python3.9/dist-packages (from sphinx~=4.0.2->super-gradients==3.0.8+master) (2.27.1)\n",
            "Requirement already satisfied: imagesize in /usr/local/lib/python3.9/dist-packages (from sphinx~=4.0.2->super-gradients==3.0.8+master) (1.4.1)\n",
            "Requirement already satisfied: sphinxcontrib-qthelp in /usr/local/lib/python3.9/dist-packages (from sphinx~=4.0.2->super-gradients==3.0.8+master) (1.0.3)\n",
            "Requirement already satisfied: babel>=1.3 in /usr/local/lib/python3.9/dist-packages (from sphinx~=4.0.2->super-gradients==3.0.8+master) (2.12.1)\n",
            "Requirement already satisfied: sphinxcontrib-serializinghtml in /usr/local/lib/python3.9/dist-packages (from sphinx~=4.0.2->super-gradients==3.0.8+master) (1.1.5)\n",
            "Requirement already satisfied: tensorboard-data-server<0.8.0,>=0.7.0 in /usr/local/lib/python3.9/dist-packages (from tensorboard>=2.4.1->super-gradients==3.0.8+master) (0.7.0)\n",
            "Requirement already satisfied: werkzeug>=1.0.1 in /usr/local/lib/python3.9/dist-packages (from tensorboard>=2.4.1->super-gradients==3.0.8+master) (2.2.3)\n",
            "Requirement already satisfied: grpcio>=1.48.2 in /usr/local/lib/python3.9/dist-packages (from tensorboard>=2.4.1->super-gradients==3.0.8+master) (1.53.0)\n",
            "Requirement already satisfied: tensorboard-plugin-wit>=1.6.0 in /usr/local/lib/python3.9/dist-packages (from tensorboard>=2.4.1->super-gradients==3.0.8+master) (1.8.1)\n",
            "Requirement already satisfied: google-auth-oauthlib<1.1,>=0.5 in /usr/local/lib/python3.9/dist-packages (from tensorboard>=2.4.1->super-gradients==3.0.8+master) (1.0.0)\n",
            "Requirement already satisfied: absl-py>=0.4 in /usr/local/lib/python3.9/dist-packages (from tensorboard>=2.4.1->super-gradients==3.0.8+master) (1.4.0)\n",
            "Requirement already satisfied: markdown>=2.6.8 in /usr/local/lib/python3.9/dist-packages (from tensorboard>=2.4.1->super-gradients==3.0.8+master) (3.4.3)\n",
            "Requirement already satisfied: google-auth<3,>=1.6.3 in /usr/local/lib/python3.9/dist-packages (from tensorboard>=2.4.1->super-gradients==3.0.8+master) (2.17.2)\n",
            "Requirement already satisfied: sphinxcontrib-jquery!=3.0.0,>=2.0.0 in /usr/local/lib/python3.9/dist-packages (from sphinx-rtd-theme->super-gradients==3.0.8+master) (4.1)\n",
            "Requirement already satisfied: urllib3<1.27,>=1.25.4 in /usr/local/lib/python3.9/dist-packages (from botocore<1.30.0,>=1.29.112->boto3>=1.17.15->super-gradients==3.0.8+master) (1.26.15)\n",
            "Requirement already satisfied: six in /usr/local/lib/python3.9/dist-packages (from cycler>=0.10->matplotlib>=3.3.4->super-gradients==3.0.8+master) (1.16.0)\n",
            "Requirement already satisfied: cachetools<6.0,>=2.0.0 in /usr/local/lib/python3.9/dist-packages (from google-auth<3,>=1.6.3->tensorboard>=2.4.1->super-gradients==3.0.8+master) (5.3.0)\n",
            "Requirement already satisfied: rsa<5,>=3.1.4 in /usr/local/lib/python3.9/dist-packages (from google-auth<3,>=1.6.3->tensorboard>=2.4.1->super-gradients==3.0.8+master) (4.9)\n",
            "Requirement already satisfied: pyasn1-modules>=0.2.1 in /usr/local/lib/python3.9/dist-packages (from google-auth<3,>=1.6.3->tensorboard>=2.4.1->super-gradients==3.0.8+master) (0.2.8)\n",
            "Requirement already satisfied: requests-oauthlib>=0.7.0 in /usr/local/lib/python3.9/dist-packages (from google-auth-oauthlib<1.1,>=0.5->tensorboard>=2.4.1->super-gradients==3.0.8+master) (1.3.1)\n",
            "Requirement already satisfied: zipp>=3.1.0 in /usr/local/lib/python3.9/dist-packages (from importlib-resources>=3.2.0->matplotlib>=3.3.4->super-gradients==3.0.8+master) (3.15.0)\n",
            "Requirement already satisfied: MarkupSafe>=2.0 in /usr/local/lib/python3.9/dist-packages (from Jinja2>=2.3->sphinx~=4.0.2->super-gradients==3.0.8+master) (2.1.2)\n",
            "Requirement already satisfied: importlib-metadata>=4.4 in /usr/local/lib/python3.9/dist-packages (from markdown>=2.6.8->tensorboard>=2.4.1->super-gradients==3.0.8+master) (6.2.0)\n",
            "Requirement already satisfied: certifi>=2017.4.17 in /usr/local/lib/python3.9/dist-packages (from requests>=2.5.0->sphinx~=4.0.2->super-gradients==3.0.8+master) (2022.12.7)\n",
            "Requirement already satisfied: charset-normalizer~=2.0.0 in /usr/local/lib/python3.9/dist-packages (from requests>=2.5.0->sphinx~=4.0.2->super-gradients==3.0.8+master) (2.0.12)\n",
            "Requirement already satisfied: idna<4,>=2.5 in /usr/local/lib/python3.9/dist-packages (from requests>=2.5.0->sphinx~=4.0.2->super-gradients==3.0.8+master) (2.10)\n",
            "Requirement already satisfied: tomli>=1.1.0 in /usr/local/lib/python3.9/dist-packages (from build->pip-tools>=6.12.1->super-gradients==3.0.8+master) (2.0.1)\n",
            "Requirement already satisfied: pyproject_hooks in /usr/local/lib/python3.9/dist-packages (from build->pip-tools>=6.12.1->super-gradients==3.0.8+master) (1.0.0)\n",
            "Requirement already satisfied: humanfriendly>=9.1 in /usr/local/lib/python3.9/dist-packages (from coloredlogs->onnxruntime==1.13.1->super-gradients==3.0.8+master) (10.0)\n",
            "Requirement already satisfied: markdown-it-py<3.0.0,>=2.2.0 in /usr/local/lib/python3.9/dist-packages (from rich->onnx-simplifier<1.0,>=0.3.6->super-gradients==3.0.8+master) (2.2.0)\n",
            "Requirement already satisfied: mpmath>=0.19 in /usr/local/lib/python3.9/dist-packages (from sympy->onnxruntime==1.13.1->super-gradients==3.0.8+master) (1.3.0)\n",
            "Requirement already satisfied: mdurl~=0.1 in /usr/local/lib/python3.9/dist-packages (from markdown-it-py<3.0.0,>=2.2.0->rich->onnx-simplifier<1.0,>=0.3.6->super-gradients==3.0.8+master) (0.1.2)\n",
            "Requirement already satisfied: pyasn1<0.5.0,>=0.4.6 in /usr/local/lib/python3.9/dist-packages (from pyasn1-modules>=0.2.1->google-auth<3,>=1.6.3->tensorboard>=2.4.1->super-gradients==3.0.8+master) (0.4.8)\n",
            "Requirement already satisfied: oauthlib>=3.0.0 in /usr/local/lib/python3.9/dist-packages (from requests-oauthlib>=0.7.0->google-auth-oauthlib<1.1,>=0.5->tensorboard>=2.4.1->super-gradients==3.0.8+master) (3.2.2)\n",
            "Installing collected packages: pyparsing\n",
            "  Attempting uninstall: pyparsing\n",
            "    Found existing installation: pyparsing 2.4.7\n",
            "    Uninstalling pyparsing-2.4.7:\n",
            "      Successfully uninstalled pyparsing-2.4.7\n",
            "\u001b[31mERROR: pip's dependency resolver does not currently take into account all the packages that are installed. This behaviour is the source of the following dependency conflicts.\n",
            "roboflow 1.0.3 requires pyparsing==2.4.7, but you have pyparsing 2.4.5 which is incompatible.\u001b[0m\u001b[31m\n",
            "\u001b[0mSuccessfully installed pyparsing-2.4.5\n"
          ]
        }
      ]
    },
    {
      "cell_type": "code",
      "source": [],
      "metadata": {
        "id": "xXgtkbnSya00"
      },
      "execution_count": null,
      "outputs": []
    },
    {
      "cell_type": "code",
      "source": [],
      "metadata": {
        "id": "DNzFXYcsybXg"
      },
      "execution_count": null,
      "outputs": []
    },
    {
      "cell_type": "markdown",
      "source": [
        "## Step 1: Initialize train and validation dataloaders."
      ],
      "metadata": {
        "id": "cU9U1IaEerqX"
      }
    },
    {
      "cell_type": "code",
      "source": [
        "from super_gradients.training.datasets.detection_datasets.coco_format_detection import COCOFormattedDetectionDataset\n",
        "from super_gradients.training.transforms.transforms import DetectionMosaic, DetectionRandomAffine, DetectionHSV, DetectionHorizontalFlip, DetectionPaddedRescale, DetectionStandardize, DetectionTargetsFormatTransform\n",
        "from super_gradients.training.utils.utils import load_func\n",
        "from super_gradients.training.utils.detection_utils import DetectionCollateFN\n",
        "from super_gradients.training import dataloaders\n",
        "from super_gradients.training.datasets.datasets_utils import worker_init_reset_seed\n",
        "\n",
        "train_transforms = [DetectionMosaic(prob=1., input_dim=(640,640)),\n",
        "                    DetectionRandomAffine(degrees=0., scales=(0.5,1.5), shear=0., target_size=(640, 640), filter_box_candidates=False, border_value=128),\n",
        "                    DetectionHSV(prob=1., hgain=5, vgain=30, sgain=30),\n",
        "                    DetectionHorizontalFlip(prob=0.5),\n",
        "                    DetectionPaddedRescale(input_dim=(640, 640), max_targets=300),\n",
        "                    DetectionStandardize(max_value=255),\n",
        "                    DetectionTargetsFormatTransform(max_targets=300, input_dim=(640, 640), output_format=\"LABEL_CXCYWH\")\n",
        "                    ]\n",
        "trainset = COCOFormattedDetectionDataset(data_dir=\"/content/soccer-players-2\", images_dir=\"train\", json_annotation_file=\"train/_annotations.coco.json\", input_dim=(640, 640), ignore_empty_annotations=False, transforms=train_transforms)\n",
        "\n",
        "val_transforms = [DetectionPaddedRescale(input_dim=(640, 640), max_targets=300), DetectionStandardize(max_value=255) ,DetectionTargetsFormatTransform(max_targets=300, input_dim=(640, 640), output_format=\"LABEL_CXCYWH\")]\n",
        "\n",
        "valset = COCOFormattedDetectionDataset(data_dir=\"/content/soccer-players-2\", images_dir=\"valid\", json_annotation_file=\"valid/_annotations.coco.json\", input_dim=(640, 640), ignore_empty_annotations=False, transforms=val_transforms)\n",
        "\n",
        "train_loader = dataloaders.get(dataset=trainset,\n",
        "                               dataloader_params={\"shuffle\": True,\n",
        "                                                  \"batch_size\": 16,\n",
        "                                                  \"min_samples\": 512,\n",
        "                                                  \"num_workers\": 2,\n",
        "                                                  \"drop_last\": False,\n",
        "                                                  \"pin_memory\": True,\n",
        "                                                  \"worker_init_fn\": worker_init_reset_seed,\n",
        "                                                  \"collate_fn\":DetectionCollateFN()})\n",
        "\n",
        "valid_loader = dataloaders.get(dataset=valset,\n",
        "                               dataloader_params={\"shuffle\": False,\n",
        "                                                  \"batch_size\": 32,\n",
        "                                                  \"num_workers\": 2,\n",
        "                                                  \"drop_last\": False,\n",
        "                                                  \"pin_memory\": True,\n",
        "                                                  \"collate_fn\":DetectionCollateFN()})\n",
        "\n"
      ],
      "metadata": {
        "colab": {
          "base_uri": "https://localhost:8080/"
        },
        "id": "fBZenZegj9hm",
        "outputId": "848e41a1-3f19-46b4-f23c-fc0fd35e4c41"
      },
      "execution_count": 3,
      "outputs": [
        {
          "output_type": "stream",
          "name": "stderr",
          "text": [
            "[2023-04-13 13:19:00] INFO - crash_tips_setup.py - Crash tips is enabled. You can set your environment variable to CRASH_HANDLER=FALSE to disable it\n"
          ]
        },
        {
          "output_type": "stream",
          "name": "stdout",
          "text": [
            "The console stream is logged into /root/sg_logs/console.log\n"
          ]
        },
        {
          "output_type": "stream",
          "name": "stderr",
          "text": [
            "[2023-04-13 13:19:04] WARNING - __init__.py - Failed to import pytorch_quantization\n",
            "[2023-04-13 13:19:04] WARNING - calibrator.py - Failed to import pytorch_quantization\n",
            "[2023-04-13 13:19:04] WARNING - export.py - Failed to import pytorch_quantization\n",
            "[2023-04-13 13:19:04] WARNING - selective_quantization_utils.py - Failed to import pytorch_quantization\n",
            "[2023-04-13 13:19:04] INFO - env_sanity_check.py - Library check is not supported when super_gradients installed through \"git+https://github.com/...\" command\n",
            "Caching annotations: 100%|██████████| 114/114 [00:00<00:00, 973.75it/s] \n",
            "Caching annotations: 100%|██████████| 33/33 [00:00<00:00, 1085.26it/s]\n",
            "[2023-04-13 13:19:04] INFO - dataloaders.py - Using min_samples=512\n"
          ]
        }
      ]
    },
    {
      "cell_type": "code",
      "source": [
        "from super_gradients.training.losses import PPYoloELoss\n",
        "from super_gradients.training.metrics import DetectionMetrics_050\n",
        "from super_gradients.training.models.detection_models.pp_yolo_e import PPYoloEPostPredictionCallback\n",
        "train_params = {\n",
        "  \"warmup_mode\": \"linear_epoch_step\",\n",
        "  \"warmup_initial_lr\":  1e-6,\n",
        "  \"lr_warmup_epochs\": 3,\n",
        "  \"initial_lr\":  5e-4,\n",
        "  \"lr_mode\": \"cosine\",\n",
        "  \"cosine_final_lr_ratio\": 0.1,\n",
        "  \"optimizer\": \"AdamW\",\n",
        "  \"optimizer_params\":{\"weight_decay\": 0.00001},\n",
        "  \"zero_weight_decay_on_bias_and_bn\": True,\n",
        "  \"lr_warmup_epochs\": 3,\n",
        "  \"warmup_mode\": \"linear_epoch_step\",\n",
        "  \"initial_lr\": 5e-4,\n",
        "  \"optimizer_params\":{\"weight_decay\": 0.0001},\n",
        "  \"ema\": True,\n",
        "  \"ema_params\":{\"decay\": 0.9, \"decay_type\": \"threshold\"},\n",
        "  \"max_epochs\": 100,\n",
        "  \"mixed_precision\": True,\n",
        "  \"loss\": PPYoloELoss(use_static_assigner=False, num_classes=3, reg_max=16),\n",
        "  \"valid_metrics_list\":[DetectionMetrics_050(score_thres=0.1, top_k_predictions=300, num_cls=3, normalize_targets=True,\n",
        "                                             post_prediction_callback=PPYoloEPostPredictionCallback(score_threshold=0.01, nms_top_k=1000, max_predictions=300, nms_threshold=0.7))],\n",
        "\n",
        "  \"metric_to_watch\": 'mAP@0.50'}"
      ],
      "metadata": {
        "id": "tiOOevCvy3qx"
      },
      "execution_count": 4,
      "outputs": []
    },
    {
      "cell_type": "code",
      "source": [
        "from super_gradients.training import Trainer\n",
        "from super_gradients.common.object_names import Models\n",
        "from super_gradients.training import models\n",
        "\n",
        "trainer = Trainer(experiment_name=\"deci_yolo_s_soccer_players\", ckpt_root_dir=\"/content/sg_checkpoints_dir/\")\n",
        "net = models.get(Models.DECIYOLO_S, num_classes=3, pretrained_weights=\"coco\")\n",
        "trainer.train(model=net, training_params=train_params, train_loader=train_loader, valid_loader=valid_loader)\n"
      ],
      "metadata": {
        "colab": {
          "base_uri": "https://localhost:8080/"
        },
        "id": "db7bAJsF7XqW",
        "outputId": "55341d36-cbb0-45e0-caac-3aa9bfc5d51e"
      },
      "execution_count": null,
      "outputs": [
        {
          "output_type": "stream",
          "name": "stdout",
          "text": [
            "loading annotations into memory...\n",
            "Done (t=0.01s)\n",
            "creating index...\n",
            "index created!\n",
            "loading annotations into memory...\n",
            "Done (t=0.00s)\n",
            "creating index...\n",
            "index created!\n"
          ]
        },
        {
          "output_type": "stream",
          "name": "stderr",
          "text": [
            "[2023-04-13 13:19:06] WARNING - sg_trainer.py - Train dataset size % batch_size != 0 and drop_last=False, this might result in smaller last batch.\n",
            "[2023-04-13 13:19:12] INFO - sg_trainer.py - Using EMA with params {'decay': 0.9, 'decay_type': 'threshold'}\n",
            "[2023-04-13 13:19:17] INFO - utils.py - NumExpr defaulting to 2 threads.\n"
          ]
        },
        {
          "output_type": "stream",
          "name": "stdout",
          "text": [
            "The console stream is now moved to /content/sg_checkpoints_dir/deci_yolo_s_soccer_players/console_Apr13_13_19_17.txt\n"
          ]
        },
        {
          "output_type": "stream",
          "name": "stderr",
          "text": [
            "[2023-04-13 13:19:26] INFO - sg_trainer_utils.py - TRAINING PARAMETERS:\n",
            "    - Mode:                         Single GPU\n",
            "    - Number of GPUs:               1          (1 available on the machine)\n",
            "    - Dataset size:                 114        [Samples]\n",
            "    - Dataloader size:              32         [Batches]\n",
            "    - Batch size per GPU:           16         (batch_size)\n",
            "    - Batch Accumulate:             1          (batch_accumulate)\n",
            "    - Total batch size:             16         (num_gpus * batch_size)\n",
            "    - Effective Batch size:         16         (num_gpus * batch_size * batch_accumulate)\n",
            "    - Iterations per epoch:         7          (len(train_set) / total_batch_size)\n",
            "    - Gradient updates per epoch:   7          (len(train_set) / effective_batch_size)\n",
            "\n",
            "[2023-04-13 13:19:26] INFO - sg_trainer.py - Started training for 100 epochs (0/99)\n",
            "\n",
            "\r  0%|          | 0/32 [00:00<?, ?it/s]\rTrain epoch 0:   0%|          | 0/32 [00:00<?, ?it/s]"
          ]
        }
      ]
    }
  ]
}
